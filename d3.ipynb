{
 "cells": [
  {
   "cell_type": "code",
   "execution_count": 3,
   "metadata": {},
   "outputs": [],
   "source": [
    "from main import *\n",
    "import pandas as pd\n",
    "from csv import writer\n",
    "import csv\n",
    "import uuid"
   ]
  },
  {
   "cell_type": "code",
   "execution_count": 4,
   "metadata": {},
   "outputs": [
    {
     "name": "stdout",
     "output_type": "stream",
     "text": [
      "view\n"
     ]
    }
   ],
   "source": [
    "print(response(\"ticket\"))"
   ]
  },
  {
   "cell_type": "code",
   "execution_count": 5,
   "metadata": {},
   "outputs": [],
   "source": [
    "def input1(A):\n",
    "    b= response(A)\n",
    "    return b"
   ]
  },
  {
   "cell_type": "code",
   "execution_count": 6,
   "metadata": {},
   "outputs": [
    {
     "data": {
      "text/plain": [
       "'welcome'"
      ]
     },
     "execution_count": 6,
     "metadata": {},
     "output_type": "execute_result"
    }
   ],
   "source": [
    "input1(\"hi\")"
   ]
  },
  {
   "cell_type": "code",
   "execution_count": 7,
   "metadata": {},
   "outputs": [
    {
     "data": {
      "text/plain": [
       "'signUp'"
      ]
     },
     "execution_count": 7,
     "metadata": {},
     "output_type": "execute_result"
    }
   ],
   "source": [
    "response(\"register\")"
   ]
  },
  {
   "cell_type": "code",
   "execution_count": 8,
   "metadata": {},
   "outputs": [
    {
     "data": {
      "text/plain": [
       "'view'"
      ]
     },
     "execution_count": 8,
     "metadata": {},
     "output_type": "execute_result"
    }
   ],
   "source": [
    "response(\"signin\")"
   ]
  },
  {
   "cell_type": "markdown",
   "metadata": {},
   "source": [
    "####   read \n",
    "file = open('userDetails.csv')\n",
    "print(type(file))\n",
    "csvreader = csv.reader(file)\n",
    "rows = []\n",
    "for row in csvreader:\n",
    "        rows.append(row)\n",
    "rows"
   ]
  },
  {
   "cell_type": "markdown",
   "metadata": {},
   "source": [
    "###   write\n",
    "df = pd.read_csv('userDetails.csv')\n",
    "\n",
    "print(df) \n",
    "arr = df.to_numpy()\n",
    "print(arr)"
   ]
  },
  {
   "cell_type": "code",
   "execution_count": 9,
   "metadata": {},
   "outputs": [],
   "source": [
    "def signUP():\n",
    "    a=input(\"Enter your email\")\n",
    "    b=input(\"Enter your phone number\")\n",
    "    c=input(\"Enter your name\")\n",
    "    d=input(\"Enter your password\")\n",
    "    List=[a,b,c,d]\n",
    "    with open('userDetails.csv', 'a') as f_object:\n",
    "        writer_object = writer(f_object)\n",
    "        writer_object.writerow(List)\n",
    "        f_object.close()\n",
    "    print(\"Signup done successfully\")\n",
    "#signUP()"
   ]
  },
  {
   "cell_type": "code",
   "execution_count": 10,
   "metadata": {},
   "outputs": [
    {
     "data": {
      "text/html": [
       "<div>\n",
       "<style scoped>\n",
       "    .dataframe tbody tr th:only-of-type {\n",
       "        vertical-align: middle;\n",
       "    }\n",
       "\n",
       "    .dataframe tbody tr th {\n",
       "        vertical-align: top;\n",
       "    }\n",
       "\n",
       "    .dataframe thead th {\n",
       "        text-align: right;\n",
       "    }\n",
       "</style>\n",
       "<table border=\"1\" class=\"dataframe\">\n",
       "  <thead>\n",
       "    <tr style=\"text-align: right;\">\n",
       "      <th></th>\n",
       "      <th>email</th>\n",
       "      <th>phoneNo</th>\n",
       "      <th>name</th>\n",
       "      <th>password</th>\n",
       "    </tr>\n",
       "  </thead>\n",
       "  <tbody>\n",
       "    <tr>\n",
       "      <th>0</th>\n",
       "      <td>1</td>\n",
       "      <td>9876543210</td>\n",
       "      <td>shaniya</td>\n",
       "      <td>1</td>\n",
       "    </tr>\n",
       "    <tr>\n",
       "      <th>1</th>\n",
       "      <td>shaniya@gmail.com</td>\n",
       "      <td>9876543210</td>\n",
       "      <td>shaniya</td>\n",
       "      <td>dog</td>\n",
       "    </tr>\n",
       "    <tr>\n",
       "      <th>2</th>\n",
       "      <td>prashetha@gmail.com</td>\n",
       "      <td>98764756823</td>\n",
       "      <td>prashetha</td>\n",
       "      <td>apple</td>\n",
       "    </tr>\n",
       "  </tbody>\n",
       "</table>\n",
       "</div>"
      ],
      "text/plain": [
       "                 email      phoneNo       name password\n",
       "0                    1   9876543210    shaniya        1\n",
       "1    shaniya@gmail.com   9876543210    shaniya      dog\n",
       "2  prashetha@gmail.com  98764756823  prashetha    apple"
      ]
     },
     "execution_count": 10,
     "metadata": {},
     "output_type": "execute_result"
    }
   ],
   "source": [
    "pd.read_csv('userDetails.csv')"
   ]
  },
  {
   "cell_type": "code",
   "execution_count": 11,
   "metadata": {},
   "outputs": [],
   "source": [
    "def login():\n",
    "        df = pd.read_csv('userDetails.csv')\n",
    "        arr = df.to_numpy()\n",
    "        a1=input(\"enter you email\")\n",
    "        b1=input(\"enter you password\")\n",
    "        for i in range(len(arr)):\n",
    "                if(a1==arr[i][0]):\n",
    "                        if(b1==arr[i][3]):\n",
    "                                print(\"Login successfull\")\n",
    "                                valid =1\n",
    "        if(valid==1):\n",
    "                return 1\n",
    "        else:\n",
    "                return 0\n",
    "\n",
    "#login()"
   ]
  },
  {
   "cell_type": "code",
   "execution_count": 12,
   "metadata": {},
   "outputs": [],
   "source": [
    "def login1(a,b):\n",
    "        a1=str(a)\n",
    "        b1=str(b)\n",
    "        df = pd.read_csv('userDetails.csv')\n",
    "        arr = df.to_numpy()\n",
    "        valid=0\n",
    "        for i in range(len(arr)):\n",
    "                if(a1==arr[i][0]):\n",
    "                        if(b1==arr[i][3]):\n",
    "                                print(\"Login successfull\")\n",
    "                                valid =1\n",
    "        if(valid==1):\n",
    "                return 1\n",
    "        else:\n",
    "                return 0\n",
    "#login1(1,1)"
   ]
  },
  {
   "cell_type": "code",
   "execution_count": 13,
   "metadata": {},
   "outputs": [],
   "source": [
    "# updating the column value/data\n",
    "#df.loc[1, 'avilability3A'] = 49\n",
    "#df.to_csv(\"trainDetails.csv\", index=False)"
   ]
  },
  {
   "cell_type": "code",
   "execution_count": 14,
   "metadata": {},
   "outputs": [],
   "source": [
    "def book1(cID,train,cls,nt):\n",
    "    tic=[uuid.uuid1(),cID,train[0],train[1],train[2],train[3],train[4],train[5],train[6],cls,nt]\n",
    "    #print(tic)\n",
    "    with open('bookingDetails.csv', 'a') as f_object:\n",
    "        writer_object = writer(f_object)\n",
    "        writer_object.writerow(tic)\n",
    "        f_object.close()"
   ]
  },
  {
   "cell_type": "code",
   "execution_count": 15,
   "metadata": {},
   "outputs": [],
   "source": [
    "\n",
    "def book():\n",
    "    a1=input(\"Enter your userID\")\n",
    "    b1=input(\"Enter you password\")\n",
    "    auth=login1(a1,b1)\n",
    "    if(auth==1):\n",
    "        df = pd.read_csv('trainDetails.csv')\n",
    "        print(df)\n",
    "        arr = df.to_numpy()\n",
    "        clas1=0\n",
    "        valid=0\n",
    "        valid1=0\n",
    "        trainId=int(input(\"Enter the train ID to book\"))\n",
    "        clas=input(\"Entert the class (2A, 3A, SL)\")\n",
    "        clas=clas.upper()\n",
    "\n",
    "        nt=int(input(\"Enter the number of Ticket\"))\n",
    "        for i in range(len(arr)):\n",
    "            if(arr[i][0]==trainId):\n",
    "                valid1=1\n",
    "                if(clas==\"2A\"):\n",
    "                    valid=1\n",
    "                    clas1=7\n",
    "                    if(arr[i][clas1]>=nt):\n",
    "                        update=int(arr[i][clas1])-nt\n",
    "                        df.loc[i, 'avilability2A'] = update\n",
    "                        df.to_csv(\"trainDetails.csv\", index=False)\n",
    "                        print(\"Ticket booked\")\n",
    "                        book1(a1,arr[i],clas,nt)\n",
    "                    else:\n",
    "                        print(\"ticket not available\")\n",
    "                if(clas==\"3A\"):\n",
    "                    valid=1\n",
    "                    clas1=8\n",
    "                    if(arr[i][clas1]>=nt):\n",
    "                        update=int(arr[i][clas1])-nt\n",
    "                        df.loc[i, 'avilability3A'] = update\n",
    "                        df.to_csv(\"trainDetails.csv\", index=False)\n",
    "                        print(\"Ticket booked\")\n",
    "                        book1(a1,arr[i],clas,nt)\n",
    "                    else:\n",
    "                        print(\"ticket not available\")\n",
    "                if(clas==\"SL\"):\n",
    "                    valid=1\n",
    "                    clas1=9\n",
    "                    if(arr[i][clas1]>=nt):\n",
    "                        update=int(arr[i][clas1])-nt\n",
    "                        df.loc[i, 'avilabilitySL'] = update\n",
    "                        df.to_csv(\"trainDetails.csv\", index=False)\n",
    "                        print(\"Ticket booked\")\n",
    "                        book1(a1,arr[i],clas,nt)\n",
    "                    else:\n",
    "                        print(\"ticket not available\")\n",
    "        if(valid==0):\n",
    "            print(\"Enter the valid class\")\n",
    "        if(valid1==0):\n",
    "            print(\"Enter the vaild train number\")\n",
    "                \n",
    "    else:\n",
    "        print(\"User ID or password incorret\")\n",
    "        print(\"Enter sign up for new user\")\n",
    "        print(\"Enter book to book the ticket\")\n",
    " \n",
    "#book()"
   ]
  },
  {
   "cell_type": "code",
   "execution_count": 16,
   "metadata": {},
   "outputs": [],
   "source": [
    "def viewTicket():\n",
    "    a1=input(\"Enter your userID\")\n",
    "    b1=input(\"Enter you password\")\n",
    "    auth=login1(a1,b1)\n",
    "    if(auth==1):\n",
    "        df = pd.read_csv('bookingDetails.csv')\n",
    "        arr = df.to_numpy()\n",
    "        for i in range(len(arr)):\n",
    "            if(arr[i][1]==a1):\n",
    "                print(df.loc[i])\n",
    "\n",
    "#viewTicket()"
   ]
  },
  {
   "cell_type": "code",
   "execution_count": 19,
   "metadata": {},
   "outputs": [
    {
     "name": "stdout",
     "output_type": "stream",
     "text": [
      "Welcome to rail way chatbot service !!!!!\n",
      "*****---------*****---------*****\n",
      "Enter sign up in case of new user\n",
      "To book a ticket enter book\n",
      "Enter ticket view to see the booked ticket\n",
      "view\n",
      "Login successfull\n",
      "ticketID          30604734-1639-11ed-809f-f0921c5aba19\n",
      "customerID                         prashetha@gmail.com\n",
      "trainId                                              2\n",
      "fromStation                                       ooty\n",
      "toStation                                      chennai\n",
      "onBoardDate                                   08/08/22\n",
      "onBoardTime                                       4:24\n",
      "arrivalDate                                   09/08/22\n",
      "arrivalTime                                      15:00\n",
      "class                                               3A\n",
      "numberOfTicket                                       1\n",
      "Name: 3, dtype: object\n"
     ]
    }
   ],
   "source": [
    "def mainChatbot():\n",
    "    print(\"Welcome to rail way chatbot service !!!!!\")\n",
    "    print(\"*****---------*****---------*****\")\n",
    "    print(\"Enter sign up in case of new user\")\n",
    "    print(\"To book a ticket enter book\")\n",
    "    print(\"Enter ticket view to see the booked ticket\")\n",
    "    a=input()\n",
    "    out=response(a)\n",
    "    print(out)\n",
    "    if(out==\"signUP\"):\n",
    "        signUP()\n",
    "    if(out==\"book\"):\n",
    "        book()\n",
    "    if(out==\"view\"):\n",
    "        viewTicket()\n",
    "    if(out==\"\"):\n",
    "        print(\"Currently we dont provide this service, sorry for the inconvience\")\n",
    "        print(\"*****---------*****---------*****\")\n",
    "        print(\"Enter sign up in case of new user\")\n",
    "        print(\"To book a ticket enter book\")\n",
    "        print(\"Enter ticket view to see the booked ticket\")\n",
    "        qus=[a]\n",
    "        with open('newquestion.csv', 'a') as f_object:\n",
    "            writer_object = writer(f_object)\n",
    "            writer_object.writerow(qus)\n",
    "            f_object.close()\n",
    "mainChatbot()"
   ]
  }
 ],
 "metadata": {
  "kernelspec": {
   "display_name": "Python 3.10.4 64-bit",
   "language": "python",
   "name": "python3"
  },
  "language_info": {
   "codemirror_mode": {
    "name": "ipython",
    "version": 3
   },
   "file_extension": ".py",
   "mimetype": "text/x-python",
   "name": "python",
   "nbconvert_exporter": "python",
   "pygments_lexer": "ipython3",
   "version": "3.10.2"
  },
  "orig_nbformat": 4,
  "vscode": {
   "interpreter": {
    "hash": "7eba179febd1df339962bc2278d8f1d5abecbc8e4bab0c957b2dbac0d3b4983e"
   }
  }
 },
 "nbformat": 4,
 "nbformat_minor": 2
}
